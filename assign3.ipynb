{
 "cells": [
  {
   "cell_type": "markdown",
   "id": "cd9c6a00-27f7-41a7-997b-b8bd93d142cb",
   "metadata": {},
   "source": [
    "# Assignment 3 - Building a Custom Visualization\n",
    "\n",
    "In this assignment you must choose __one__ of the options presented below and submit a visual as well as your source code for peer grading. The details of how you solve the assignment are up to you, although your assignment must use matplotlib so that your peers can evaluate your work. The options differ in challenge level, but there are no grades associated with the challenge level you chose. However, your peers will be asked to ensure you at least met a minimum quality for a given technique in order to pass. Implement the technique fully (or exceed it!) and you should be able to earn full grades for the assignment.\n",
    "\n",
    "Ferreira, N., Fisher, D., & Konig, A. C. (2014, April). [Sample-oriented task-driven visualizations: allowing users to make better, more confident decisions.](https://www.microsoft.com/en-us/research/wp-content/uploads/2016/02/Ferreira_Fisher_Sample_Oriented_Tasks.pdf) \n",
    "&nbsp;&nbsp;&nbsp;&nbsp;&nbsp;&nbsp;In Proceedings of the SIGCHI Conference on Human Factors in Computing Systems (pp. 571-580). ACM. ([video](https://www.youtube.com/watch?v=BI7GAs-va-Q))\n",
    "\n",
    "In this [paper](https://www.microsoft.com/en-us/research/wp-content/uploads/2016/02/Ferreira_Fisher_Sample_Oriented_Tasks.pdf) the authors describe the challenges users face when trying to make judgements about probabilistic data generated through samples. As an example, they look at a bar chart of four years of data (replicated below in Figure 1). Each year has a y-axis value, which is derived from a sample of a larger dataset. For instance, the first value might be the number votes in a given district or riding for 1992, with the average being around 33,000. On top of this is plotted the 95% confidence interval for the mean (see the boxplot lectures for more information, and the yerr parameter of barcharts).\n",
    "\n",
    "<br>\n",
    "<img src=\"assets/Assignment3Fig1.png\" alt=\"Figure 1\" style=\"width: 400px;\"/>\n",
    "<h4 style=\"text-align: center;\" markdown=\"1\">  &nbsp;&nbsp;&nbsp;&nbsp;&nbsp;&nbsp;&nbsp;&nbsp;Figure 1 from (Ferreira et al, 2014).</h4>\n",
    "\n",
    "<br>\n",
    "\n",
    "A challenge that users face is that, for a given y-axis value (e.g. 42,000), it is difficult to know which x-axis values are most likely to be representative, because the confidence levels overlap and their distributions are different (the lengths of the confidence interval bars are unequal). One of the solutions the authors propose for this problem (Figure 2c) is to allow users to indicate the y-axis value of interest (e.g. 42,000) and then draw a horizontal line and color bars based on this value. So bars might be colored red if they are definitely above this value (given the confidence interval), blue if they are definitely below this value, or white if they contain this value.\n",
    "\n",
    "\n",
    "<br>\n",
    "<img src=\"assets/Assignment3Fig2c.png\" alt=\"Figure 1\" style=\"width: 400px;\"/>\n",
    "<h4 style=\"text-align: center;\" markdown=\"1\">  Figure 2c from (Ferreira et al. 2014). Note that the colorbar legend at the bottom as well as the arrows are not required in the assignment descriptions below.</h4>\n",
    "\n",
    "<br>\n",
    "<br>\n",
    "\n",
    "**Easiest option:** Implement the bar coloring as described above - a color scale with at least three colors, (e.g. blue, white, and red). Assume the user provides the y axis value of interest as a parameter or variable.\n",
    "\n",
    "**Harder option:** Implement the bar coloring as described in the paper, where the color of the bar is actually based on the amount of data covered (e.g. a gradient ranging from dark blue for the distribution being certainly below this y-axis, to white if the value is certainly contained, to dark red if the value is certainly not contained as the distribution is above the axis).\n",
    "\n",
    "**Even Harder option:** Add interactivity to the above, which allows the user to click on the y axis to set the value of interest. The bar colors should change with respect to what value the user has selected.\n",
    "\n",
    "**Hardest option:** Allow the user to interactively set a range of y values they are interested in, and recolor based on this (e.g. a y-axis band, see the paper for more details).\n",
    "\n",
    "---\n",
    "\n",
    "*Note: The data given for this assignment is not the same as the data used in the article and as a result the visualizations may look a little different.*"
   ]
  },
  {
   "cell_type": "code",
   "execution_count": 1,
   "id": "07ce9910-0571-4fad-b7f7-8a170a8230a0",
   "metadata": {},
   "outputs": [
    {
     "data": {
      "image/png": "[encoded data removed]",
      "text/plain": [
       "<Figure size 432x288 with 2 Axes>"
      ]
     },
     "metadata": {
      "needs_background": "light"
     },
     "output_type": "display_data"
    }
   ],
   "source": [
    "import pandas as pd\n",
    "import numpy as np\n",
    "import matplotlib.pyplot as plt\n",
    "from scipy.stats import norm\n",
    "\n",
    "np.random.seed(12345)\n",
    "\n",
    "df = pd.DataFrame([np.random.normal(32000, 200000, 3650),\n",
    "                   np.random.normal(43000, 100000, 3650),\n",
    "                   np.random.normal(43500, 140000, 3650),\n",
    "                   np.random.normal(48000, 70000, 3650)],\n",
    "                  index=[1992, 1993, 1994, 1995])\n",
    "\n",
    "mean = df.mean(axis=1)\n",
    "std = df.std(axis=1)\n",
    "yerr = std / np.sqrt(df.shape[1])\n",
    "\n",
    "# Definir o número y\n",
    "y = 42000\n",
    "\n",
    "# Calcular as diferenças entre a média e o número y\n",
    "diff = mean - y\n",
    "\n",
    "# Calcular os z-scores correspondentes aos valores de diferença\n",
    "z_scores = diff / yerr\n",
    "\n",
    "# Calcular as probabilidades usando a distribuição normal padrão\n",
    "probabilities = norm.cdf(z_scores)\n",
    "\n",
    "# Criar uma escala de cores contínua (gradient) com base nas probabilidades\n",
    "colors = plt.cm.coolwarm(probabilities)\n",
    "\n",
    "# Plot das barras com cores correspondentes à probabilidade\n",
    "bars = plt.bar(df.index, mean, align='center', alpha=0.8, color=colors)\n",
    "\n",
    "# Adicionar a barra de escala de cores\n",
    "cmap = plt.cm.ScalarMappable(norm=plt.Normalize(vmin=0, vmax=1), cmap=plt.cm.coolwarm)\n",
    "cmap.set_array([])\n",
    "cbar = plt.colorbar(cmap)\n",
    "cbar.set_label('Probability', fontsize=12)\n",
    "\n",
    "# Adicionar as barras de erro\n",
    "plt.errorbar(df.index, mean, yerr=yerr * 1.96, fmt='none', ecolor='black', capsize=5, linewidth=1.5)\n",
    "\n",
    "# Configurar os eixos\n",
    "plt.xticks(df.index)\n",
    "plt.tick_params(axis='x', bottom=False)\n",
    "plt.axhline(y=y, color='black', linestyle='-', linewidth=2)\n",
    "plt.xlabel('Years', fontsize=12)\n",
    "plt.ylabel('Average', fontsize=12)\n",
    "plt.title('Probability of data containing a value', fontsize=14)\n",
    "\n",
    "plt.show()"
   ]
  }
 ],
 "metadata": {
  "kernelspec": {
   "display_name": "Python 3 (ipykernel)",
   "language": "python",
   "name": "python3"
  },
  "language_info": {
   "codemirror_mode": {
    "name": "ipython",
    "version": 3
   },
   "file_extension": ".py",
   "mimetype": "text/x-python",
   "name": "python",
   "nbconvert_exporter": "python",
   "pygments_lexer": "ipython3",
   "version": "3.8.10"
  }
 },
 "nbformat": 4,
 "nbformat_minor": 5
}
